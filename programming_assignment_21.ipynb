{
 "cells": [
  {
   "cell_type": "code",
   "execution_count": 1,
   "metadata": {},
   "outputs": [
    {
     "name": "stdout",
     "output_type": "stream",
     "text": [
      "[2, 3, 4, 5, 6]\n"
     ]
    }
   ],
   "source": [
    "#Q - Question1\n",
    "'''Write a function that takes a list and a number as arguments. Add the number to the end of\n",
    "the list, then remove the first element of the list. The function should then return the updated\n",
    "list.'''  \n",
    "#Answer:\n",
    "def update_list(lst, number):\n",
    "    lst.append(number)\n",
    "    lst.pop(0)\n",
    "    return lst\n",
    "\n",
    "my_list = [1, 2, 3, 4, 5]\n",
    "number = 6\n",
    "updated_list = update_list(my_list, number)\n",
    "print(updated_list)\n"
   ]
  },
  {
   "cell_type": "code",
   "execution_count": 2,
   "metadata": {},
   "outputs": [
    {
     "name": "stdout",
     "output_type": "stream",
     "text": [
      "The total budget of all people is: 65700\n"
     ]
    }
   ],
   "source": [
    "#Q - Question2\n",
    "#Create the function that takes a list of dictionaries and returns the sum of people&#39;s budgets.\n",
    "#Answer:\n",
    "def calculate_budget_sum(persons):\n",
    "    budget_sum = sum(person['budget'] for person in persons)\n",
    "    return budget_sum\n",
    "\n",
    "person_list = [\n",
    "{ \"name\": \"John\", \"age\": 21, \"budget\": 23000 },\n",
    "{ \"name\": \"Steve\", \"age\": 32, \"budget\": 40000 },\n",
    "{ \"name\": \"Martin\", \"age\": 16, \"budget\": 2700 }\n",
    "]\n",
    "total_budget = calculate_budget_sum(person_list)\n",
    "print(f\"The total budget of all people is: {total_budget}\")\n"
   ]
  },
  {
   "cell_type": "code",
   "execution_count": 3,
   "metadata": {},
   "outputs": [
    {
     "name": "stdout",
     "output_type": "stream",
     "text": [
      "ehllo\n"
     ]
    }
   ],
   "source": [
    "#Q - Question3\n",
    "#Create a function that takes a string and returns a string with its letters in alphabetical order.\n",
    "#Answer:\n",
    "def sort_string_alphabetically(string):\n",
    "    sorted_string = \"\".join(sorted(string))\n",
    "    return sorted_string\n",
    "\n",
    "input_string = \"hello\"\n",
    "sorted_string = sort_string_alphabetically(input_string)\n",
    "print(sorted_string)\n"
   ]
  },
  {
   "cell_type": "code",
   "execution_count": 4,
   "metadata": {},
   "outputs": [
    {
     "name": "stdout",
     "output_type": "stream",
     "text": [
      "The value of your investment at the end of 10 years is $18193.97.\n"
     ]
    }
   ],
   "source": [
    "#Q - Question4\n",
    "'''Suppose that you invest $10,000 for 10 years at an interest rate of 6% compounded monthly.\n",
    "What will be the value of your investment at the end of the 10 year period?\n",
    "Create a function that accepts the principal p, the term in years t, the interest rate r, and the\n",
    "number of compounding periods per year n. The function returns the value at the end of term\n",
    "rounded to the nearest cent.'''  \n",
    "\n",
    "#Answer:\n",
    "def calculate_investment_value(p, t, r, n):\n",
    "    total_periods = t * n\n",
    "    rate_per_period = r / n\n",
    "\n",
    "    investment_value = p * (1 + rate_per_period)**total_periods\n",
    "    rounded_value = round(investment_value, 2)\n",
    "    return rounded_value\n",
    "    \n",
    "principal = 10000\n",
    "term = 10\n",
    "interest_rate = 0.06\n",
    "compounding_frequency = 12\n",
    "\n",
    "investment_value = calculate_investment_value(principal, term, interest_rate, compounding_frequency)\n",
    "print(f\"The value of your investment at the end of {term} years is ${investment_value}.\")\n"
   ]
  },
  {
   "cell_type": "code",
   "execution_count": 5,
   "metadata": {},
   "outputs": [
    {
     "name": "stdout",
     "output_type": "stream",
     "text": [
      "[1, 3, 4]\n"
     ]
    }
   ],
   "source": [
    "#Q - Question5\n",
    "#Write a function that takes a list of elements and returns only the integers.\n",
    "\n",
    "#Answer:\n",
    "def filter_integers(elements):\n",
    "    integer_list = [element for element in elements if isinstance(element, int)]\n",
    "    return integer_list\n",
    "    \n",
    "elements = [1, 'apple', 2.5, 3, 'banana', 4, 'cherry']\n",
    "integer_list = filter_integers(elements)\n",
    "print(integer_list)\n"
   ]
  },
  {
   "cell_type": "code",
   "execution_count": null,
   "metadata": {},
   "outputs": [],
   "source": []
  }
 ],
 "metadata": {
  "kernelspec": {
   "display_name": "Python 3.9.6 64-bit",
   "language": "python",
   "name": "python3"
  },
  "language_info": {
   "codemirror_mode": {
    "name": "ipython",
    "version": 3
   },
   "file_extension": ".py",
   "mimetype": "text/x-python",
   "name": "python",
   "nbconvert_exporter": "python",
   "pygments_lexer": "ipython3",
   "version": "3.9.6"
  },
  "orig_nbformat": 4,
  "vscode": {
   "interpreter": {
    "hash": "31f2aee4e71d21fbe5cf8b01ff0e069b9275f58929596ceb00d14d90e3e16cd6"
   }
  }
 },
 "nbformat": 4,
 "nbformat_minor": 2
}
